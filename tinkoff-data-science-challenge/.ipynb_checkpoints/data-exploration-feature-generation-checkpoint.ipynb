{
 "cells": [
  {
   "cell_type": "code",
   "execution_count": 17,
   "metadata": {
    "collapsed": false
   },
   "outputs": [],
   "source": [
    "import os\n",
    "import pandas as pd\n",
    "import numpy as np\n",
    "import seaborn as sns\n",
    "import matplotlib.pyplot as plt\n",
    "%matplotlib inline"
   ]
  },
  {
   "cell_type": "code",
   "execution_count": 19,
   "metadata": {
    "collapsed": false
   },
   "outputs": [],
   "source": [
    "train = pd.read_csv('credit_train.csv', delimiter=';', encoding = 'cp1251')\n",
    "test = pd.read_csv('credit_test.csv', delimiter=';', encoding = 'cp1251')\n",
    "\n",
    "all_data = pd.concat([train, test])"
   ]
  },
  {
   "cell_type": "code",
   "execution_count": 20,
   "metadata": {
    "collapsed": false
   },
   "outputs": [
    {
     "data": {
      "text/plain": [
       "0    140690\n",
       "1     30056\n",
       "Name: open_account_flg, dtype: int64"
      ]
     },
     "execution_count": 20,
     "metadata": {},
     "output_type": "execute_result"
    }
   ],
   "source": [
    "train[\"open_account_flg\"].value_counts()"
   ]
  },
  {
   "cell_type": "code",
   "execution_count": 21,
   "metadata": {
    "collapsed": false
   },
   "outputs": [
    {
     "data": {
      "text/plain": [
       "0.21363280972350557"
      ]
     },
     "execution_count": 21,
     "metadata": {},
     "output_type": "execute_result"
    }
   ],
   "source": [
    "30056 / 140690"
   ]
  },
  {
   "cell_type": "code",
   "execution_count": 22,
   "metadata": {
    "collapsed": false
   },
   "outputs": [
    {
     "name": "stdout",
     "output_type": "stream",
     "text": [
      "living_region , null_count : 192\n",
      "monthly_income , null_count : 1\n",
      "credit_count , null_count : 9230\n",
      "overdue_credit_count , null_count : 9230\n"
     ]
    }
   ],
   "source": [
    "for column in train.columns:\n",
    "    if train[column].isnull().any():\n",
    "        print('{0} , null_count : {1}'.format(column, train[column].isnull().sum()))"
   ]
  },
  {
   "cell_type": "code",
   "execution_count": 23,
   "metadata": {
    "collapsed": false
   },
   "outputs": [
    {
     "name": "stdout",
     "output_type": "stream",
     "text": [
      "living_region : null , count 192: , number of opened accounts : Empty DataFrame\n",
      "Columns: [client_id, gender, age, marital_status, job_position, credit_sum, credit_month, tariff_id, score_shk, education, living_region, monthly_income, credit_count, overdue_credit_count, open_account_flg]\n",
      "Index: []\n",
      "monthly_income : null , count 1: , number of opened accounts : Empty DataFrame\n",
      "Columns: [client_id, gender, age, marital_status, job_position, credit_sum, credit_month, tariff_id, score_shk, education, living_region, monthly_income, credit_count, overdue_credit_count, open_account_flg]\n",
      "Index: []\n",
      "credit_count : null , count 9230: , number of opened accounts : Empty DataFrame\n",
      "Columns: [client_id, gender, age, marital_status, job_position, credit_sum, credit_month, tariff_id, score_shk, education, living_region, monthly_income, credit_count, overdue_credit_count, open_account_flg]\n",
      "Index: []\n",
      "overdue_credit_count : null , count 9230: , number of opened accounts : Empty DataFrame\n",
      "Columns: [client_id, gender, age, marital_status, job_position, credit_sum, credit_month, tariff_id, score_shk, education, living_region, monthly_income, credit_count, overdue_credit_count, open_account_flg]\n",
      "Index: []\n"
     ]
    }
   ],
   "source": [
    "for column in train.columns:\n",
    "    if train[column].isnull().any():\n",
    "        print('{0} : null , count {1}: , number of opened accounts : {2}'.format(column, \n",
    "              train[column].isnull().sum(),\n",
    "              train[(train['living_region'].isnull()) & (train[\"open_account_flg\"] == 1)]))"
   ]
  },
  {
   "cell_type": "code",
   "execution_count": 24,
   "metadata": {
    "collapsed": false
   },
   "outputs": [
    {
     "data": {
      "text/plain": [
       "['client_id',\n",
       " 'gender',\n",
       " 'age',\n",
       " 'marital_status',\n",
       " 'job_position',\n",
       " 'credit_sum',\n",
       " 'credit_month',\n",
       " 'tariff_id',\n",
       " 'score_shk',\n",
       " 'education',\n",
       " 'living_region',\n",
       " 'monthly_income',\n",
       " 'credit_count',\n",
       " 'overdue_credit_count',\n",
       " 'open_account_flg']"
      ]
     },
     "execution_count": 24,
     "metadata": {},
     "output_type": "execute_result"
    }
   ],
   "source": [
    "list_of_cols = train.columns.tolist()\n",
    "#list_of_cols.append('open_account_flg')\n",
    "\n",
    "list_of_cols"
   ]
  },
  {
   "cell_type": "code",
   "execution_count": 25,
   "metadata": {
    "collapsed": false
   },
   "outputs": [],
   "source": [
    "all_data[\"credit_sum\"] = all_data[\"credit_sum\"].apply(lambda x: x.replace(',','.')).apply(pd.to_numeric)\n",
    "all_data[\"score_shk\"] = all_data[\"score_shk\"].apply(lambda x: x.replace(',','.')).apply(pd.to_numeric)"
   ]
  },
  {
   "cell_type": "code",
   "execution_count": 10,
   "metadata": {
    "collapsed": false
   },
   "outputs": [
    {
     "name": "stdout",
     "output_type": "stream",
     "text": [
      "age int64\n",
      "client_id int64\n",
      "credit_count float64\n",
      "credit_month int64\n",
      "credit_sum float64\n",
      "education object\n",
      "gender object\n",
      "job_position object\n",
      "living_region object\n",
      "marital_status object\n",
      "monthly_income float64\n",
      "open_account_flg float64\n",
      "overdue_credit_count float64\n",
      "score_shk float64\n",
      "tariff_id float64\n"
     ]
    }
   ],
   "source": [
    "for col, type_of_col in zip(all_data.columns, all_data.dtypes):\n",
    "    print(col, type_of_col)"
   ]
  },
  {
   "cell_type": "code",
   "execution_count": 11,
   "metadata": {
    "collapsed": false
   },
   "outputs": [
    {
     "data": {
      "text/plain": [
       "1monthly_income     41872\n",
       "4monthly_income     33194\n",
       "3monthly_income     29246\n",
       "6monthly_income     28792\n",
       "5monthly_income     27950\n",
       "10monthly_income    26025\n",
       "9monthly_income     24564\n",
       "8monthly_income     22619\n",
       "7monthly_income     17184\n",
       "2monthly_income     11240\n",
       "Name: monthly_income_group, dtype: int64"
      ]
     },
     "execution_count": 11,
     "metadata": {},
     "output_type": "execute_result"
    }
   ],
   "source": [
    "all_data['monthly_income'].fillna(-1, inplace=True)\n",
    "all_data['monthly_income_group'] = pd.qcut(all_data['monthly_income'], \n",
    "                                           10, labels=[str(x) + 'monthly_income' for x in range(1,11)])\n",
    "all_data[\"monthly_income_group\"].value_counts()"
   ]
  },
  {
   "cell_type": "code",
   "execution_count": 12,
   "metadata": {
    "collapsed": false
   },
   "outputs": [
    {
     "data": {
      "text/plain": [
       "6ratio_credit_sum_to_month     26411\n",
       "3ratio_credit_sum_to_month     26296\n",
       "9ratio_credit_sum_to_month     26281\n",
       "2ratio_credit_sum_to_month     26270\n",
       "1ratio_credit_sum_to_month     26270\n",
       "5ratio_credit_sum_to_month     26267\n",
       "10ratio_credit_sum_to_month    26256\n",
       "4ratio_credit_sum_to_month     26249\n",
       "8ratio_credit_sum_to_month     26246\n",
       "7ratio_credit_sum_to_month     26140\n",
       "Name: ratio_credit_sum_to_month_group, dtype: int64"
      ]
     },
     "execution_count": 12,
     "metadata": {},
     "output_type": "execute_result"
    }
   ],
   "source": [
    "all_data['ratio_credit_sum_to_month'] = all_data['credit_sum'] / all_data['credit_month']\n",
    "\n",
    "all_data['ratio_credit_sum_to_month_group'] = pd.qcut(all_data['ratio_credit_sum_to_month'], \n",
    "                                           10, labels=[str(x) + 'ratio_credit_sum_to_month' for x in range(1,11)])\n",
    "all_data[\"ratio_credit_sum_to_month_group\"].value_counts()"
   ]
  },
  {
   "cell_type": "code",
   "execution_count": 13,
   "metadata": {
    "collapsed": false
   },
   "outputs": [
    {
     "data": {
      "text/plain": [
       "5ratio_monthly_income_to_credit_sum     26281\n",
       "8ratio_monthly_income_to_credit_sum     26271\n",
       "7ratio_monthly_income_to_credit_sum     26270\n",
       "1ratio_monthly_income_to_credit_sum     26270\n",
       "4ratio_monthly_income_to_credit_sum     26269\n",
       "10ratio_monthly_income_to_credit_sum    26268\n",
       "3ratio_monthly_income_to_credit_sum     26268\n",
       "2ratio_monthly_income_to_credit_sum     26268\n",
       "9ratio_monthly_income_to_credit_sum     26265\n",
       "6ratio_monthly_income_to_credit_sum     26256\n",
       "Name: ratio_monthly_income_to_credit_sum_group, dtype: int64"
      ]
     },
     "execution_count": 13,
     "metadata": {},
     "output_type": "execute_result"
    }
   ],
   "source": [
    "all_data['ratio_monthly_income_to_credit_sum'] = all_data['monthly_income'] / all_data['credit_sum']\n",
    "\n",
    "all_data['ratio_monthly_income_to_credit_sum_group'] = pd.qcut(all_data['ratio_monthly_income_to_credit_sum'], \n",
    "                                           10, labels=[str(x) + 'ratio_monthly_income_to_credit_sum' for x in range(1,11)])\n",
    "all_data[\"ratio_monthly_income_to_credit_sum_group\"].value_counts()"
   ]
  },
  {
   "cell_type": "code",
   "execution_count": 14,
   "metadata": {
    "collapsed": false
   },
   "outputs": [
    {
     "data": {
      "text/plain": [
       "6age_group     32893\n",
       "4age_group     31906\n",
       "2age_group     30831\n",
       "9age_group     26709\n",
       "1age_group     26444\n",
       "10age_group    24988\n",
       "8age_group     23936\n",
       "3age_group     23393\n",
       "7age_group     22320\n",
       "5age_group     19266\n",
       "Name: age_group, dtype: int64"
      ]
     },
     "execution_count": 14,
     "metadata": {},
     "output_type": "execute_result"
    }
   ],
   "source": [
    "all_data['age_group'] = pd.qcut(all_data['age'], 10, labels=[str(x) + 'age_group' for x in range(1,11)])\n",
    "all_data[\"age_group\"].value_counts()"
   ]
  },
  {
   "cell_type": "code",
   "execution_count": 15,
   "metadata": {
    "collapsed": false
   },
   "outputs": [
    {
     "data": {
      "text/plain": [
       "1credit_sum_group     26298\n",
       "8credit_sum_group     26278\n",
       "3credit_sum_group     26272\n",
       "6credit_sum_group     26270\n",
       "10credit_sum_group    26269\n",
       "7credit_sum_group     26267\n",
       "4credit_sum_group     26264\n",
       "9credit_sum_group     26259\n",
       "2credit_sum_group     26259\n",
       "5credit_sum_group     26250\n",
       "Name: credit_sum_group, dtype: int64"
      ]
     },
     "execution_count": 15,
     "metadata": {},
     "output_type": "execute_result"
    }
   ],
   "source": [
    "all_data['credit_sum_group'] = pd.qcut(all_data['credit_sum'], 10, labels=[str(x) + 'credit_sum_group' for x in range(1,11)])\n",
    "all_data[\"credit_sum_group\"].value_counts()"
   ]
  },
  {
   "cell_type": "code",
   "execution_count": 16,
   "metadata": {
    "collapsed": false
   },
   "outputs": [
    {
     "data": {
      "text/plain": [
       "1score_shk_group    52560\n",
       "2score_shk_group    52540\n",
       "5score_shk_group    52536\n",
       "3score_shk_group    52526\n",
       "4score_shk_group    52524\n",
       "Name: score_shk_group, dtype: int64"
      ]
     },
     "execution_count": 16,
     "metadata": {},
     "output_type": "execute_result"
    }
   ],
   "source": [
    "all_data['score_shk_group'] = pd.qcut(all_data['score_shk'], 5, labels=[str(x) + 'score_shk_group' for x in range(1,6)])\n",
    "all_data[\"score_shk_group\"].value_counts()"
   ]
  },
  {
   "cell_type": "code",
   "execution_count": 18,
   "metadata": {
    "collapsed": false
   },
   "outputs": [],
   "source": [
    "#import nicode\n",
    "def normalize_reg(x):\n",
    "    if isinstance(x, str):\n",
    "        x = x.upper()\n",
    "        x = x.replace('РЕСПУБЛИКА', '')\n",
    "        x = x.replace('РЕСП', '')\n",
    "        x = x.replace('ОБЛАСТЬ', '')\n",
    "        x = x.replace('ОБЛ', '')\n",
    "        x = x.replace('КРАЙ', '')\n",
    "        x = x.replace('Г ', '')\n",
    "        x = x.replace(' Г', '')\n",
    "        x = x.replace('Г.', '')\n",
    "        x = x.replace('АО ', '')\n",
    "        x = x.replace(' АО', '')\n",
    "        x = x.replace('АO', '')\n",
    "        x = x.replace('ЧУВАШСКАЯ', '')\n",
    "        x = x.replace('(', '')\n",
    "        x = x.replace(')', '')\n",
    "        x = x.replace('/', '')\n",
    "        x = x.replace(' ', '')\n",
    "        x = x.replace('.', '')\n",
    "        x = x.replace('-', '')\n",
    "\n",
    "        x = x.replace('ЧУВАШСКАЯ', '')\n",
    "        x = x.replace('ОРЁЛ', '')\n",
    "        x = x.replace('СЕВЕРНАЯ', 'СЕВ')\n",
    "        if 'ХМАО' in x:\n",
    "            x = 'ХАНТЫ-МАНСИЙСКИЙ АВТОНОМНЫЙ ОКРУГ-ЮГРА'\n",
    "        if 'ЕВРЕЙ' in x:\n",
    "            x = 'ЕВРЕЙСКАЯАО'\n",
    "        if 'КАМЧ' in x:\n",
    "            x = 'КАМЧАТКА'\n",
    "        if 'ХАНТЫ' in x:\n",
    "            x = 'ХАНТЫ-МАНСИЙСКИЙ АВТОНОМНЫЙ ОКРУГ-ЮГРА'\n",
    "        if 'САХА' in x:\n",
    "            x = 'ЯКУТИЯ'\n",
    "        if 'АЛТАЙ' in x:\n",
    "            x = 'АЛТАЙ'\n",
    "        if 'МОСКОВСКИЙ' in x:\n",
    "            x = 'МОСКОВСКАЯ'\n",
    "        if 'МОСКВОС' in x:\n",
    "            x = 'МОСКОВСКАЯ'\n",
    "        if 'МОСКОВСКАЯ' in x:\n",
    "            x = 'МОСКОВСКАЯ'\n",
    "        if 'РОССИЯ' in x:\n",
    "            x = 'МОСКВА'\n",
    "        if ('ЧЕЛЯБ' in x) or x == '74':\n",
    "            x = 'ЧЕЛЯБИНСК'\n",
    "        if x == '98' or x in 'САНКТПЕТЕРБУРГ':\n",
    "            x = 'Г.САНКТ-ПЕТЕРБУРГ'\n",
    "        if x == 'КАРАЧ':\n",
    "            x = 'КАРАЧАЕВО-ЧЕРКЕССКАЯ'\n",
    "        if x == 'БРЯНСКИЙ':\n",
    "            x = 'БРЯНСКАЯ'\n",
    "        if x == 'ПЕРМСКАЯ':\n",
    "            x = 'ПЕРМСКИЙ'   \n",
    "                        \n",
    "    return x"
   ]
  },
  {
   "cell_type": "code",
   "execution_count": 19,
   "metadata": {
    "collapsed": false
   },
   "outputs": [
    {
     "data": {
      "text/plain": [
       "array(['КРАСНОДАРСКИЙ', 'МОСКВА', 'САРАТОВСКАЯ', 'ВОЛГОГРАДСКАЯ',\n",
       "       'ЧЕЛЯБИНСК', 'СТАВРОПОЛЬСКИЙ', 'НИЖЕГОРОДСКАЯ', 'МОСКОВСКАЯ',\n",
       "       'ХАНТЫ-МАНСИЙСКИЙ АВТОНОМНЫЙ ОКРУГ-ЮГРА', 'Г.САНКТ-ПЕТЕРБУРГ',\n",
       "       'БАШКОРТОСТАН', 'АРХАНГЕЛЬСКАЯ', 'ПЕРМСКИЙ', 'КАРАЧАЕВОЧЕРКЕССКАЯ',\n",
       "       'КАЛУЖСКАЯ', 'ВОЛОГОДСКАЯ', 'РОСТОВСКАЯ', 'УДМУРТСКАЯ', 'ИРКУТСКАЯ',\n",
       "       'ПРИВОЛЖСКИЙФЕДЕРАЛЬНЫЙОКРУГ', 'ТЮМЕНСКАЯ', 'БЕЛГОРОДСКАЯ',\n",
       "       'КОСТРОМСКАЯ', 'ХАКАСИЯ', 'ТАТАРСТАН', 'СВЕРДЛОВСКАЯ', 'ПСКОВСКАЯ',\n",
       "       'ЗАБАЙКАЛЬСКИЙ', 'ОРЕНБУРГСКАЯ', 'ВОРОНЕЖСКАЯ', 'АСТРАХАНСКАЯ',\n",
       "       'НОВОСИБИРСКАЯ', 'КУРГАНСКАЯ', 'УЛЬЯНОВСКАЯ', 'МУРМАНСКАЯ',\n",
       "       'КРАСНОЯРСКИЙ', 'БУРЯТИЯ', 'ЯКУТИЯ', 'АМУРСКАЯ', 'ХАБАРОВСКИЙ',\n",
       "       'ЯМАЛОНЕНЕЦКИЙ', 'САМАРСКАЯ', 'ТВЕРСКАЯ', 'ЯРОСЛАВСКАЯ',\n",
       "       'ВЛАДИМИРСКАЯ', 'ЛЕНИНГРАДСКАЯ', 'ОРЛОВСКАЯ', 'КЕМЕРОВСКАЯ',\n",
       "       'ОМСКАЯ', 'ЧЕЧЕНСКАЯ', 'КУРСКАЯ', 'ТУЛЬСКАЯ', 'АДЫГЕЯ', 'КОМИ',\n",
       "       'ПРИМОРСКИЙ', 'СМОЛЕНСКАЯ', 'КИРОВСКАЯ', 'ДАГЕСТАН', 'ПЕНЗЕНСКАЯ',\n",
       "       'КАРЕЛИЯ', 'ТОМСКАЯ', 'МАГАДАНСКАЯ', 'МАРИЙЭЛ', 'ИВАНОВСКАЯ',\n",
       "       'ЕВРЕЙСКАЯАО', 'АЛТАЙ', 'КАБАРДИНОБАЛКАРСКАЯ', 'ТАМБОВСКАЯ', 'ТЫВА',\n",
       "       'НОВГОРОДСКАЯ', 'ЛИПЕЦКАЯ', 'СЕВОСЕТИЯАЛАНИЯ', 'РЯЗАНСКАЯ',\n",
       "       'ЧУВАШИЯ', 'NAN', 'КАМЧАТКА', 'МОРДОВИЯ', 'КАЛМЫКИЯ', 'БРЯНСКАЯ',\n",
       "       'КАЛИНИНГРАДСКАЯ', 'НЕНЕЦКИЙ', 'ЧУКОТСКИЙ', 'ГОРЬКОВСКАЯ',\n",
       "       'ИНГУШЕТИЯ', 'ЧИТИНСКАЯ', 'МЫТИЩИНСКИЙРН', 'ЭВЕНКИЙСКИЙ',\n",
       "       'ГУСЬХРУСТАЛЬНЫЙРН', 'ДАЛЬНИЙВОСТОК'], dtype=object)"
      ]
     },
     "execution_count": 19,
     "metadata": {},
     "output_type": "execute_result"
    }
   ],
   "source": [
    "all_data[\"normalized_living_region\"] = all_data[\"living_region\"].apply(normalize_reg)\n",
    "\n",
    "all_data[\"normalized_living_region\"] = all_data[\"normalized_living_region\"].fillna('NAN')\n",
    "\n",
    "all_data[\"normalized_living_region\"].unique()"
   ]
  },
  {
   "cell_type": "code",
   "execution_count": 20,
   "metadata": {
    "collapsed": false
   },
   "outputs": [
    {
     "data": {
      "text/plain": [
       "array(['КРАСНОДАРСКИЙ', 'МОСКВА', 'САРАТОВСКАЯ', 'ВОЛГОГРАДСКАЯ',\n",
       "       'ЧЕЛЯБИНСК', 'СТАВРОПОЛЬСКИЙ', 'НИЖЕГОРОДСКАЯ', 'МОСКОВСКАЯ',\n",
       "       'ХАНТЫ-МАНСИЙСКИЙ АВТОНОМНЫЙ ОКРУГ-ЮГРА', 'Г.САНКТ-ПЕТЕРБУРГ',\n",
       "       'БАШКОРТОСТАН', 'АРХАНГЕЛЬСКАЯ', 'ПЕРМСКИЙ', 'КАРАЧАЕВОЧЕРКЕССКАЯ',\n",
       "       'КАЛУЖСКАЯ', 'ВОЛОГОДСКАЯ', 'РОСТОВСКАЯ', 'УДМУРТСКАЯ', 'ИРКУТСКАЯ',\n",
       "       'ПРИВОЛЖСКИЙФЕДЕРАЛЬНЫЙОКРУГ', 'ТЮМЕНСКАЯ', 'БЕЛГОРОДСКАЯ',\n",
       "       'КОСТРОМСКАЯ', 'ХАКАСИЯ', 'ТАТАРСТАН', 'СВЕРДЛОВСКАЯ', 'ПСКОВСКАЯ',\n",
       "       'ЗАБАЙКАЛЬСКИЙ', 'ОРЕНБУРГСКАЯ', 'ВОРОНЕЖСКАЯ', 'АСТРАХАНСКАЯ',\n",
       "       'НОВОСИБИРСКАЯ', 'КУРГАНСКАЯ', 'УЛЬЯНОВСКАЯ', 'МУРМАНСКАЯ',\n",
       "       'КРАСНОЯРСКИЙ', 'БУРЯТИЯ', 'ЯКУТИЯ', 'АМУРСКАЯ', 'ХАБАРОВСКИЙ',\n",
       "       'ЯМАЛОНЕНЕЦКИЙ', 'САМАРСКАЯ', 'ТВЕРСКАЯ', 'ЯРОСЛАВСКАЯ',\n",
       "       'ВЛАДИМИРСКАЯ', 'ЛЕНИНГРАДСКАЯ', 'ОРЛОВСКАЯ', 'КЕМЕРОВСКАЯ',\n",
       "       'ОМСКАЯ', 'ЧЕЧЕНСКАЯ', 'КУРСКАЯ', 'ТУЛЬСКАЯ', 'АДЫГЕЯ', 'КОМИ',\n",
       "       'ПРИМОРСКИЙ', 'СМОЛЕНСКАЯ', 'КИРОВСКАЯ', 'ДАГЕСТАН', 'ПЕНЗЕНСКАЯ',\n",
       "       'КАРЕЛИЯ', 'ТОМСКАЯ', 'МАГАДАНСКАЯ', 'МАРИЙЭЛ', 'ИВАНОВСКАЯ',\n",
       "       'ЕВРЕЙСКАЯАО', 'АЛТАЙ', 'КАБАРДИНОБАЛКАРСКАЯ', 'ТАМБОВСКАЯ', 'ТЫВА',\n",
       "       'НОВГОРОДСКАЯ', 'ЛИПЕЦКАЯ', 'СЕВОСЕТИЯАЛАНИЯ', 'РЯЗАНСКАЯ',\n",
       "       'ЧУВАШИЯ', 'NAN', 'КАМЧАТКА', 'МОРДОВИЯ', 'КАЛМЫКИЯ', 'БРЯНСКАЯ',\n",
       "       'КАЛИНИНГРАДСКАЯ', 'НЕНЕЦКИЙ', 'ЧУКОТСКИЙ', 'ГОРЬКОВСКАЯ',\n",
       "       'ИНГУШЕТИЯ', 'ЧИТИНСКАЯ', 'МЫТИЩИНСКИЙРН', 'ЭВЕНКИЙСКИЙ',\n",
       "       'ГУСЬХРУСТАЛЬНЫЙРН', 'ДАЛЬНИЙВОСТОК'], dtype=object)"
      ]
     },
     "execution_count": 20,
     "metadata": {},
     "output_type": "execute_result"
    }
   ],
   "source": [
    "all_data[\"normalized_living_region\"].unique()"
   ]
  },
  {
   "cell_type": "code",
   "execution_count": 21,
   "metadata": {
    "collapsed": true
   },
   "outputs": [],
   "source": [
    "all_data[\"living_region\"] = all_data[\"living_region\"].fillna('NAN')"
   ]
  },
  {
   "cell_type": "code",
   "execution_count": 22,
   "metadata": {
    "collapsed": false
   },
   "outputs": [],
   "source": [
    "ross_stat = pd.read_excel('data.xls')\n",
    "\n",
    "def ROSSSTAT_normalize_reg(x):\n",
    "    if isinstance(x, str):\n",
    "        x = x.upper()\n",
    "        x = x.replace('        ', '')\n",
    "        x = x.replace('    ', '')\n",
    "            \n",
    "    return x"
   ]
  },
  {
   "cell_type": "code",
   "execution_count": 23,
   "metadata": {
    "collapsed": false
   },
   "outputs": [],
   "source": [
    "ross_stat[ross_stat.columns[0]].fillna('drop',inplace=True)\n",
    "ross_stat[\"normalized_living_region\"] = ross_stat[ross_stat.columns[0]].apply(ROSSSTAT_normalize_reg)"
   ]
  },
  {
   "cell_type": "code",
   "execution_count": 24,
   "metadata": {
    "collapsed": false
   },
   "outputs": [],
   "source": [
    "ross_stat.columns = ['region',\n",
    "       'mean_monthly_income_by_region', 'Unnamed: 2', 'Unnamed: 3', 'Unnamed: 4', 'Unnamed: 5',\n",
    "       'Unnamed: 6', 'Unnamed: 7', 'Unnamed: 8', 'Unnamed: 9', 'Unnamed: 10',\n",
    "       'Unnamed: 11', 'Unnamed: 12', 'Unnamed: 13', 'Unnamed: 14',\n",
    "       'Unnamed: 15', 'Unnamed: 16', 'Unnamed: 17', 'Unnamed: 18',\n",
    "       'normalized_living_region']"
   ]
  },
  {
   "cell_type": "code",
   "execution_count": 25,
   "metadata": {
    "collapsed": false
   },
   "outputs": [],
   "source": [
    "dict_normalized_region_to_mean_income = pd.Series(ross_stat.mean_monthly_income_by_region.values,\n",
    "                                                  index=ross_stat.normalized_living_region).to_dict()"
   ]
  },
  {
   "cell_type": "code",
   "execution_count": 26,
   "metadata": {
    "collapsed": false
   },
   "outputs": [],
   "source": [
    "unique_normalized_dict = {value for value in all_data[\"normalized_living_region\"].unique()}\n",
    "unique_normalized_dict = dict.fromkeys(unique_normalized_dict)"
   ]
  },
  {
   "cell_type": "code",
   "execution_count": 27,
   "metadata": {
    "collapsed": false
   },
   "outputs": [
    {
     "name": "stdout",
     "output_type": "stream",
     "text": [
      "Г.САНКТ-ПЕТЕРБУРГ\n",
      "ХАНТЫ-МАНСИЙСКИЙ АВТОНОМНЫЙ ОКРУГ-ЮГРА\n"
     ]
    }
   ],
   "source": [
    "for k,v in dict_normalized_region_to_mean_income.items():\n",
    "    if any(key.startswith(k) for key in unique_normalized_dict):\n",
    "        print(k)"
   ]
  },
  {
   "cell_type": "code",
   "execution_count": 29,
   "metadata": {
    "collapsed": false
   },
   "outputs": [],
   "source": [
    "import collections\n",
    "\n",
    "dict_normalized_region_to_mean_income = collections.OrderedDict(sorted(dict_normalized_region_to_mean_income.items()))\n",
    "unique_normalized_dict = collections.OrderedDict(sorted(unique_normalized_dict.items()))"
   ]
  },
  {
   "cell_type": "code",
   "execution_count": 30,
   "metadata": {
    "collapsed": false
   },
   "outputs": [],
   "source": [
    "for (k,v), (k2,v2) in zip(dict_normalized_region_to_mean_income.items(), \n",
    "                          unique_normalized_dict.items()):\n",
    "    #print(k,v)\n",
    "    #print(k2,v2)\n",
    "    if any(key.startswith(k2) for key in dict_normalized_region_to_mean_income):\n",
    "        unique_normalized_dict[k2] = v"
   ]
  },
  {
   "cell_type": "code",
   "execution_count": 31,
   "metadata": {
    "collapsed": false
   },
   "outputs": [
    {
     "name": "stdout",
     "output_type": "stream",
     "text": [
      "КАРАЧАЕВОЧЕРКЕССКАЯ\n",
      "ПРИВОЛЖСКИЙФЕДЕРАЛЬНЫЙОКРУГ\n",
      "ЯМАЛОНЕНЕЦКИЙ\n",
      "МАРИЙЭЛ\n",
      "ЕВРЕЙСКАЯАО\n",
      "КАБАРДИНОБАЛКАРСКАЯ\n",
      "СЕВОСЕТИЯАЛАНИЯ\n",
      "ЧУВАШИЯ\n",
      "NAN\n",
      "КАМЧАТКА\n",
      "ГОРЬКОВСКАЯ\n",
      "ЧИТИНСКАЯ\n",
      "МЫТИЩИНСКИЙРН\n",
      "ЭВЕНКИЙСКИЙ\n",
      "ГУСЬХРУСТАЛЬНЫЙРН\n",
      "ДАЛЬНИЙВОСТОК\n"
     ]
    }
   ],
   "source": [
    "normal_regs = []\n",
    "for reg in all_data[\"normalized_living_region\"].unique():\n",
    "    if ross_stat[\"normalized_living_region\"].str.contains(reg).any():\n",
    "        normal_regs.append(reg)\n",
    "    else:\n",
    "        print(reg)"
   ]
  },
  {
   "cell_type": "code",
   "execution_count": 32,
   "metadata": {
    "collapsed": false
   },
   "outputs": [
    {
     "data": {
      "text/plain": [
       "odict_values([None, None, 32901.7, 38299.6, 35591.7, 25498.7, None, 21679, 23876.5, None, 27444.5, 24905.9, 21848.2, 64310.4, 44187, None, None, None, None, None, 20866.1, 28262.2, None, 57403.6, None, 28263, None, 21796.2, None, None, None, 22064.3, 23921.4, None, 24524.1, 65996.3, 40642.7, 45989.4, 71229.6, 26480.7, 26346.4, 28045.5, None, None, None, 23191.9, 28527.9, None, 33806.5, 21553.3, 22087.1, 22902.8, 25927.5, 28385.6, 19238.9, 21480.6, 20108.5, None, 41364.9, 22440.3, 21946.8, 22028.5, 54630.9, 21266.6, 29147.1, None, 29934.8, 34029.5, 25007.5, None, 26849.2, 22528.2, 61311.3, None, 37930.5, 21719.8, 29615.6, 23469.8, None, 21725.2, 24804.3, 34041.1, None, None, 35868.7, None, None, None, 38041.3])"
      ]
     },
     "execution_count": 32,
     "metadata": {},
     "output_type": "execute_result"
    }
   ],
   "source": [
    "unique_normalized_dict.values()"
   ]
  },
  {
   "cell_type": "code",
   "execution_count": 35,
   "metadata": {
    "collapsed": false
   },
   "outputs": [
    {
     "data": {
      "text/plain": [
       "{}"
      ]
     },
     "execution_count": 35,
     "metadata": {},
     "output_type": "execute_result"
    }
   ],
   "source": [
    "{k: v for k, v in unique_normalized_dict.items() if v is None}"
   ]
  },
  {
   "cell_type": "code",
   "execution_count": 34,
   "metadata": {
    "collapsed": false
   },
   "outputs": [],
   "source": [
    "unique_normalized_dict['АДЫГЕЯ'] = 22087.1\n",
    "unique_normalized_dict['БАШКОРТОСТАН'] = 25927.5\n",
    "unique_normalized_dict['БУРЯТИЯ'] = 28385.6\n",
    "unique_normalized_dict['ГОРЬКОВСКАЯ'] = 26480.7 #\n",
    "unique_normalized_dict['ГУСЬХРУСТАЛЬНЫЙРН'] = 23876.5 #\n",
    "unique_normalized_dict['ДАГЕСТАН'] = 19238.9\n",
    "unique_normalized_dict['ДАЛЬНИЙВОСТОК'] = 43163.5\n",
    "\n",
    "unique_normalized_dict['ЕВРЕЙСКАЯАО'] = 30895.7\n",
    "unique_normalized_dict['ИНГУШЕТИЯ'] = 21480.6\n",
    "unique_normalized_dict['КАБАРДИНОБАЛКАРСКАЯ'] = 20866.1\n",
    "unique_normalized_dict['КАЛМЫКИЯ'] = 20108.5\n",
    "unique_normalized_dict['КАМЧАТКА'] = 57403.6 \n",
    "unique_normalized_dict['КАРАЧАЕВОЧЕРКЕССКАЯ'] = 20511.4\n",
    "unique_normalized_dict['КАРЕЛИЯ'] = 30704.2\n",
    "unique_normalized_dict['МАРИЙЭЛ'] = 21946.8\n",
    "unique_normalized_dict['МОРДОВИЯ'] = 22028.5\n",
    "unique_normalized_dict['МОСКВА'] = 64310.4\n",
    "unique_normalized_dict['МЫТИЩИНСКИЙРН'] = 64310.4 #\n",
    "unique_normalized_dict['ПРИВОЛЖСКИЙФЕДЕРАЛЬНЫЙОКРУГ'] = 25632.1\n",
    "unique_normalized_dict['СЕВОСЕТИЯАЛАНИЯ'] = 21266.6\n",
    "unique_normalized_dict['ТАТАРСТАН'] = 29147.1\n",
    "unique_normalized_dict['ТЫВА'] = 28321.7\n",
    "unique_normalized_dict['ХАКАСИЯ'] = 29934.8\n",
    "unique_normalized_dict['ЧИТИНСКАЯ'] = 30930.8 #\n",
    "unique_normalized_dict['ЧУВАШИЯ'] = 21369.4 \n",
    "unique_normalized_dict['ЭВЕНКИЙСКИЙ'] = 36070.8 #\n",
    "unique_normalized_dict['ЯКУТИЯ'] = 54630.9\n",
    "unique_normalized_dict['ЯМАЛОНЕНЕЦКИЙ'] = 77271.7\n",
    "unique_normalized_dict['КОМИ'] = 41364.9\n",
    "unique_normalized_dict['NAN'] = 34029.5"
   ]
  },
  {
   "cell_type": "code",
   "execution_count": 36,
   "metadata": {
    "collapsed": false
   },
   "outputs": [],
   "source": [
    "all_data['mean_income_by_normalized_living_region'] = all_data['normalized_living_region'].map(unique_normalized_dict)"
   ]
  },
  {
   "cell_type": "code",
   "execution_count": 37,
   "metadata": {
    "collapsed": true
   },
   "outputs": [],
   "source": [
    "all_data['credit_count'].fillna(-1, inplace=True)\n",
    "all_data['overdue_credit_count'].fillna(-1, inplace=True)\n",
    "all_data['monthly_income'].fillna(-1, inplace=True)"
   ]
  },
  {
   "cell_type": "code",
   "execution_count": null,
   "metadata": {
    "collapsed": true
   },
   "outputs": [],
   "source": [
    "all_data['diff_customer_income_mean_income_by_normalized_living_region'] = \\\n",
    "                                     all_data['monthly_income'] - all_data['mean_income_by_normalized_living_region']"
   ]
  },
  {
   "cell_type": "code",
   "execution_count": null,
   "metadata": {
    "collapsed": true
   },
   "outputs": [],
   "source": [
    "all_data['diff_customer_income_credit_sum'] = \\\n",
    "                                     all_data['monthly_income'] - all_data['credit_sum']"
   ]
  },
  {
   "cell_type": "code",
   "execution_count": null,
   "metadata": {
    "collapsed": true
   },
   "outputs": [],
   "source": [
    "all_data['ratio_customer_income_to_mean_income_by_normalized_living_region'] = \\\n",
    "                                     all_data['monthly_income'] / all_data['mean_income_by_normalized_living_region']"
   ]
  },
  {
   "cell_type": "code",
   "execution_count": 38,
   "metadata": {
    "collapsed": false
   },
   "outputs": [
    {
     "name": "stdout",
     "output_type": "stream",
     "text": [
      "living_region\n",
      "normalized_living_region\n"
     ]
    }
   ],
   "source": [
    "num_columns = all_data.select_dtypes(include=[np.number]).columns\n",
    "cat_columns = [col for col in all_data.columns if col not in num_columns]\n",
    "\n",
    "train = all_data[:train.shape[0]]\n",
    "test = all_data[train.shape[0]:]\n",
    "\n",
    "for column in cat_columns:\n",
    "    if sorted(train[column].unique()) != sorted(test[column].unique()):\n",
    "        print(column)"
   ]
  },
  {
   "cell_type": "code",
   "execution_count": 39,
   "metadata": {
    "collapsed": true
   },
   "outputs": [],
   "source": [
    "def make_cont_cat_feature(dataframe, cont_feature, cat_feature):\n",
    "    \n",
    "    lamb = 30\n",
    "    new_column_name = 'special_mean'+ '_' + cat_feature+'_'+cont_feature\n",
    "    dataframe[new_column_name] = np.nan\n",
    "    total_mean = dataframe[cont_feature].mean()\n",
    "    \n",
    "    #counting number of occurrences\n",
    "    categories_count = {value for value in dataframe[cat_feature].unique()}\n",
    "    categories_count = dict.fromkeys(categories_count)\n",
    "    for k,v in categories_count.items():\n",
    "        categories_count[k] = dataframe[dataframe[cat_feature] == k][cat_feature].count()\n",
    "        \n",
    "    #counting mean of each category \n",
    "    means = {value for value in dataframe[cat_feature].unique()}\n",
    "    means = dict.fromkeys(means)\n",
    "    for k,v in means.items():\n",
    "        means[k] = dataframe[dataframe[cat_feature] == k][cont_feature].mean()\n",
    "    \n",
    "    #counting special mean-indicator of each category \n",
    "    special = {value for value in dataframe[cat_feature].unique()}\n",
    "    special = dict.fromkeys(special)\n",
    "    for k,v in special.items():\n",
    "        special[k] = (means[k]*categories_count[k] + total_mean*lamb)/(categories_count[k] + lamb)\n",
    "    \n",
    "    dataframe[new_column_name] = dataframe[cat_feature].map(special)"
   ]
  },
  {
   "cell_type": "code",
   "execution_count": 40,
   "metadata": {
    "collapsed": true
   },
   "outputs": [],
   "source": [
    "#ratio_credit_sum_to_month_group\n",
    "\n",
    "make_cont_cat_feature(all_data, 'credit_count', 'ratio_credit_sum_to_month_group')\n",
    "make_cont_cat_feature(all_data, 'overdue_credit_count', 'ratio_credit_sum_to_month_group')\n",
    "make_cont_cat_feature(all_data, 'score_shk', 'ratio_credit_sum_to_month_group')\n",
    "make_cont_cat_feature(all_data, 'monthly_income', 'ratio_credit_sum_to_month_group')\n",
    "make_cont_cat_feature(all_data, 'ratio_monthly_income_to_credit_sum', 'ratio_credit_sum_to_month_group')\n",
    "make_cont_cat_feature(all_data, 'mean_income_by_normalized_living_region', 'ratio_credit_sum_to_month_group')"
   ]
  },
  {
   "cell_type": "code",
   "execution_count": 41,
   "metadata": {
    "collapsed": false
   },
   "outputs": [],
   "source": [
    "#job_position\n",
    "\n",
    "make_cont_cat_feature(all_data, 'credit_sum', 'job_position')\n",
    "make_cont_cat_feature(all_data, 'credit_month', 'job_position')\n",
    "make_cont_cat_feature(all_data, 'credit_count', 'job_position')\n",
    "make_cont_cat_feature(all_data, 'overdue_credit_count', 'job_position')\n",
    "make_cont_cat_feature(all_data, 'score_shk', 'job_position')\n",
    "make_cont_cat_feature(all_data, 'monthly_income', 'job_position')\n",
    "make_cont_cat_feature(all_data, 'ratio_credit_sum_to_month', 'job_position')\n",
    "make_cont_cat_feature(all_data, 'ratio_monthly_income_to_credit_sum', 'job_position')\n",
    "make_cont_cat_feature(all_data, 'mean_income_by_normalized_living_region', 'job_position')"
   ]
  },
  {
   "cell_type": "code",
   "execution_count": 42,
   "metadata": {
    "collapsed": true
   },
   "outputs": [],
   "source": [
    "#education\n",
    "\n",
    "make_cont_cat_feature(all_data, 'credit_sum', 'education')\n",
    "make_cont_cat_feature(all_data, 'credit_month', 'education')\n",
    "make_cont_cat_feature(all_data, 'credit_count', 'education')\n",
    "make_cont_cat_feature(all_data, 'overdue_credit_count', 'education')\n",
    "make_cont_cat_feature(all_data, 'score_shk', 'education')\n",
    "make_cont_cat_feature(all_data, 'monthly_income', 'education')\n",
    "make_cont_cat_feature(all_data, 'ratio_credit_sum_to_month', 'education')\n",
    "make_cont_cat_feature(all_data, 'mean_income_by_normalized_living_region', 'education')"
   ]
  },
  {
   "cell_type": "code",
   "execution_count": 43,
   "metadata": {
    "collapsed": true
   },
   "outputs": [],
   "source": [
    "#marital_status\n",
    "\n",
    "make_cont_cat_feature(all_data, 'credit_sum', 'marital_status')\n",
    "make_cont_cat_feature(all_data, 'credit_month', 'marital_status')\n",
    "make_cont_cat_feature(all_data, 'credit_count', 'marital_status')\n",
    "make_cont_cat_feature(all_data, 'overdue_credit_count', 'marital_status')\n",
    "make_cont_cat_feature(all_data, 'score_shk', 'marital_status')\n",
    "make_cont_cat_feature(all_data, 'monthly_income', 'marital_status')\n",
    "make_cont_cat_feature(all_data, 'ratio_credit_sum_to_month', 'marital_status')\n",
    "make_cont_cat_feature(all_data, 'ratio_monthly_income_to_credit_sum', 'marital_status')\n",
    "make_cont_cat_feature(all_data, 'mean_income_by_normalized_living_region', 'marital_status')"
   ]
  },
  {
   "cell_type": "code",
   "execution_count": 44,
   "metadata": {
    "collapsed": false
   },
   "outputs": [],
   "source": [
    "#gender\n",
    "\n",
    "make_cont_cat_feature(all_data, 'credit_sum', 'gender')\n",
    "make_cont_cat_feature(all_data, 'credit_month', 'gender')\n",
    "make_cont_cat_feature(all_data, 'credit_count', 'gender')\n",
    "make_cont_cat_feature(all_data, 'overdue_credit_count', 'gender')\n",
    "make_cont_cat_feature(all_data, 'score_shk', 'gender')\n",
    "make_cont_cat_feature(all_data, 'monthly_income', 'gender')\n",
    "make_cont_cat_feature(all_data, 'ratio_credit_sum_to_month', 'gender')\n",
    "make_cont_cat_feature(all_data, 'ratio_monthly_income_to_credit_sum', 'gender')\n",
    "make_cont_cat_feature(all_data, 'mean_income_by_normalized_living_region', 'gender')"
   ]
  },
  {
   "cell_type": "code",
   "execution_count": 45,
   "metadata": {
    "collapsed": true
   },
   "outputs": [],
   "source": [
    "#age_group\n",
    "\n",
    "make_cont_cat_feature(all_data, 'credit_sum', 'age_group')\n",
    "make_cont_cat_feature(all_data, 'credit_month', 'age_group')\n",
    "make_cont_cat_feature(all_data, 'credit_count', 'age_group')\n",
    "make_cont_cat_feature(all_data, 'overdue_credit_count', 'age_group')\n",
    "make_cont_cat_feature(all_data, 'score_shk', 'age_group')\n",
    "make_cont_cat_feature(all_data, 'monthly_income', 'age_group')\n",
    "make_cont_cat_feature(all_data, 'ratio_credit_sum_to_month', 'age_group')\n",
    "make_cont_cat_feature(all_data, 'ratio_monthly_income_to_credit_sum', 'age_group')\n",
    "make_cont_cat_feature(all_data, 'mean_income_by_normalized_living_region', 'age_group')"
   ]
  },
  {
   "cell_type": "code",
   "execution_count": 46,
   "metadata": {
    "collapsed": false
   },
   "outputs": [],
   "source": [
    "#living_region\n",
    "\n",
    "make_cont_cat_feature(all_data, 'credit_sum', 'living_region')\n",
    "make_cont_cat_feature(all_data, 'credit_month', 'living_region')\n",
    "make_cont_cat_feature(all_data, 'credit_count', 'living_region')\n",
    "make_cont_cat_feature(all_data, 'overdue_credit_count', 'living_region')\n",
    "make_cont_cat_feature(all_data, 'score_shk', 'living_region')\n",
    "make_cont_cat_feature(all_data, 'monthly_income', 'living_region')\n",
    "make_cont_cat_feature(all_data, 'ratio_credit_sum_to_month', 'living_region')\n",
    "make_cont_cat_feature(all_data, 'ratio_monthly_income_to_credit_sum', 'living_region')"
   ]
  },
  {
   "cell_type": "code",
   "execution_count": 47,
   "metadata": {
    "collapsed": true
   },
   "outputs": [],
   "source": [
    "#credit_sum_group\n",
    "\n",
    "make_cont_cat_feature(all_data, 'credit_month', 'credit_sum_group')\n",
    "make_cont_cat_feature(all_data, 'credit_count', 'credit_sum_group')\n",
    "make_cont_cat_feature(all_data, 'overdue_credit_count', 'credit_sum_group')\n",
    "make_cont_cat_feature(all_data, 'score_shk', 'credit_sum_group')\n",
    "make_cont_cat_feature(all_data, 'monthly_income', 'credit_sum_group')\n",
    "make_cont_cat_feature(all_data, 'ratio_credit_sum_to_month', 'credit_sum_group')\n",
    "make_cont_cat_feature(all_data, 'ratio_monthly_income_to_credit_sum', 'credit_sum_group')\n",
    "make_cont_cat_feature(all_data, 'mean_income_by_normalized_living_region', 'credit_sum_group')"
   ]
  },
  {
   "cell_type": "code",
   "execution_count": 48,
   "metadata": {
    "collapsed": false
   },
   "outputs": [],
   "source": [
    "#normalized_living_region\n",
    "\n",
    "make_cont_cat_feature(all_data, 'credit_sum', 'normalized_living_region')\n",
    "make_cont_cat_feature(all_data, 'credit_month', 'normalized_living_region')\n",
    "make_cont_cat_feature(all_data, 'credit_count', 'normalized_living_region')\n",
    "make_cont_cat_feature(all_data, 'overdue_credit_count', 'normalized_living_region')\n",
    "make_cont_cat_feature(all_data, 'score_shk', 'normalized_living_region')\n",
    "make_cont_cat_feature(all_data, 'monthly_income', 'normalized_living_region')\n",
    "make_cont_cat_feature(all_data, 'ratio_credit_sum_to_month', 'normalized_living_region')\n",
    "make_cont_cat_feature(all_data, 'ratio_monthly_income_to_credit_sum', 'normalized_living_region')"
   ]
  },
  {
   "cell_type": "code",
   "execution_count": 49,
   "metadata": {
    "collapsed": true
   },
   "outputs": [],
   "source": [
    "#score_shk\n",
    "\n",
    "make_cont_cat_feature(all_data, 'credit_sum', 'score_shk_group')\n",
    "make_cont_cat_feature(all_data, 'credit_month', 'score_shk_group')\n",
    "make_cont_cat_feature(all_data, 'credit_count', 'score_shk_group')\n",
    "make_cont_cat_feature(all_data, 'overdue_credit_count', 'score_shk_group')\n",
    "make_cont_cat_feature(all_data, 'monthly_income', 'score_shk_group')\n",
    "make_cont_cat_feature(all_data, 'ratio_credit_sum_to_month', 'score_shk_group')\n",
    "make_cont_cat_feature(all_data, 'ratio_monthly_income_to_credit_sum', 'score_shk_group')\n",
    "make_cont_cat_feature(all_data, 'mean_income_by_normalized_living_region', 'score_shk_group')"
   ]
  },
  {
   "cell_type": "code",
   "execution_count": 50,
   "metadata": {
    "collapsed": true
   },
   "outputs": [],
   "source": [
    "#tariff_id\n",
    "\n",
    "all_data[\"tariff_id\"] = all_data['tariff_id'].astype(str)\n",
    "\n",
    "make_cont_cat_feature(all_data, 'credit_sum', 'tariff_id')\n",
    "make_cont_cat_feature(all_data, 'credit_month', 'tariff_id')\n",
    "make_cont_cat_feature(all_data, 'credit_count', 'tariff_id')\n",
    "make_cont_cat_feature(all_data, 'overdue_credit_count', 'tariff_id')\n",
    "make_cont_cat_feature(all_data, 'score_shk', 'tariff_id')\n",
    "make_cont_cat_feature(all_data, 'monthly_income', 'tariff_id')\n",
    "make_cont_cat_feature(all_data, 'ratio_credit_sum_to_month', 'tariff_id')\n",
    "make_cont_cat_feature(all_data, 'ratio_monthly_income_to_credit_sum', 'tariff_id')\n",
    "make_cont_cat_feature(all_data, 'mean_income_by_normalized_living_region', 'tariff_id')"
   ]
  },
  {
   "cell_type": "code",
   "execution_count": 51,
   "metadata": {
    "collapsed": true
   },
   "outputs": [],
   "source": [
    "#monthly_income\n",
    "\n",
    "make_cont_cat_feature(all_data, 'credit_sum', 'monthly_income_group')\n",
    "make_cont_cat_feature(all_data, 'credit_month', 'monthly_income_group')\n",
    "make_cont_cat_feature(all_data, 'credit_count', 'monthly_income_group')\n",
    "make_cont_cat_feature(all_data, 'overdue_credit_count', 'monthly_income_group')\n",
    "make_cont_cat_feature(all_data, 'score_shk', 'monthly_income_group')\n",
    "make_cont_cat_feature(all_data, 'ratio_credit_sum_to_month', 'monthly_income_group')\n",
    "make_cont_cat_feature(all_data, 'mean_income_by_normalized_living_region', 'monthly_income_group')"
   ]
  },
  {
   "cell_type": "code",
   "execution_count": 53,
   "metadata": {
    "collapsed": true
   },
   "outputs": [],
   "source": [
    "num_columns = all_data.select_dtypes(include=[np.number]).columns\n",
    "cat_columns = [col for col in all_data.columns if col not in num_columns]"
   ]
  },
  {
   "cell_type": "code",
   "execution_count": 54,
   "metadata": {
    "collapsed": true
   },
   "outputs": [],
   "source": [
    "from sklearn.preprocessing import LabelEncoder, OneHotEncoder\n",
    "\n",
    "for column in all_data[cat_columns] :\n",
    "    encoder_lab = LabelEncoder()\n",
    "    if column in cat_columns:\n",
    "        all_data[column] = encoder_lab.fit_transform(all_data[column])"
   ]
  },
  {
   "cell_type": "code",
   "execution_count": 55,
   "metadata": {
    "collapsed": false
   },
   "outputs": [
    {
     "name": "stdout",
     "output_type": "stream",
     "text": [
      "open_account_flg , null_count : 91940\n"
     ]
    }
   ],
   "source": [
    "for column in all_data.columns:\n",
    "    if all_data[column].isnull().any():\n",
    "        print('{0} , null_count : {1}'.format(column, all_data[column].isnull().sum()))"
   ]
  },
  {
   "cell_type": "code",
   "execution_count": 56,
   "metadata": {
    "collapsed": true
   },
   "outputs": [],
   "source": [
    "features = [col for col in all_data.columns if col != 'open_account_flg']\n",
    "\n",
    "train = all_data[:train.shape[0]]\n",
    "test = all_data[train.shape[0]:]"
   ]
  },
  {
   "cell_type": "code",
   "execution_count": 57,
   "metadata": {
    "collapsed": false
   },
   "outputs": [],
   "source": [
    "from sklearn.model_selection import  train_test_split\n",
    "X_train, X_test, y_train, y_test = train_test_split(train[features], train['open_account_flg'], test_size=0.2, \n",
    "                                                    stratify=train['open_account_flg'], random_state=42)"
   ]
  },
  {
   "cell_type": "code",
   "execution_count": 60,
   "metadata": {
    "collapsed": false
   },
   "outputs": [
    {
     "name": "stderr",
     "output_type": "stream",
     "text": [
      "/usr/local/lib/python3.5/site-packages/sklearn/utils/validation.py:395: DeprecationWarning: Passing 1d arrays as data is deprecated in 0.17 and will raise ValueError in 0.19. Reshape your data either using X.reshape(-1, 1) if your data has a single feature or X.reshape(1, -1) if it contains a single sample.\n",
      "  DeprecationWarning)\n"
     ]
    },
    {
     "name": "stdout",
     "output_type": "stream",
     "text": [
      "(1, 64)\n"
     ]
    }
   ],
   "source": [
    "from sklearn.ensemble import ExtraTreesClassifier\n",
    "from sklearn.feature_selection import SelectFromModel\n",
    "\n",
    "\n",
    "clf = ExtraTreesClassifier(n_estimators=1000, max_features=10)\n",
    "clf = clf.fit(X_test, y_test)\n",
    "model = SelectFromModel(clf, prefit=True)\n",
    "New_features = model.transform(features)\n",
    "print(New_features.shape)"
   ]
  },
  {
   "cell_type": "code",
   "execution_count": 61,
   "metadata": {
    "collapsed": false
   },
   "outputs": [
    {
     "data": {
      "text/plain": [
       "array([['age', 'client_id', 'credit_count', 'credit_month', 'credit_sum',\n",
       "        'living_region', 'monthly_income', 'overdue_credit_count',\n",
       "        'score_shk', 'tariff_id', 'monthly_income_group',\n",
       "        'ratio_credit_sum_to_month', 'ratio_credit_sum_to_month_group',\n",
       "        'ratio_monthly_income_to_credit_sum',\n",
       "        'ratio_monthly_income_to_credit_sum_group', 'age_group',\n",
       "        'normalized_living_region',\n",
       "        'mean_income_by_normalized_living_region',\n",
       "        'special_mean_ratio_credit_sum_to_month_group_credit_count',\n",
       "        'special_mean_ratio_credit_sum_to_month_group_overdue_credit_count',\n",
       "        'special_mean_ratio_credit_sum_to_month_group_score_shk',\n",
       "        'special_mean_ratio_credit_sum_to_month_group_monthly_income',\n",
       "        'special_mean_ratio_credit_sum_to_month_group_ratio_monthly_income_to_credit_sum',\n",
       "        'special_mean_ratio_credit_sum_to_month_group_mean_income_by_normalized_living_region',\n",
       "        'special_mean_age_group_credit_sum',\n",
       "        'special_mean_age_group_credit_month',\n",
       "        'special_mean_age_group_credit_count',\n",
       "        'special_mean_age_group_overdue_credit_count',\n",
       "        'special_mean_age_group_score_shk',\n",
       "        'special_mean_age_group_monthly_income',\n",
       "        'special_mean_age_group_ratio_credit_sum_to_month',\n",
       "        'special_mean_age_group_ratio_monthly_income_to_credit_sum',\n",
       "        'special_mean_age_group_mean_income_by_normalized_living_region',\n",
       "        'special_mean_living_region_credit_sum',\n",
       "        'special_mean_living_region_credit_month',\n",
       "        'special_mean_living_region_credit_count',\n",
       "        'special_mean_living_region_overdue_credit_count',\n",
       "        'special_mean_living_region_score_shk',\n",
       "        'special_mean_living_region_monthly_income',\n",
       "        'special_mean_living_region_ratio_credit_sum_to_month',\n",
       "        'special_mean_living_region_ratio_monthly_income_to_credit_sum',\n",
       "        'special_mean_credit_sum_group_credit_month',\n",
       "        'special_mean_credit_sum_group_credit_count',\n",
       "        'special_mean_credit_sum_group_score_shk',\n",
       "        'special_mean_credit_sum_group_ratio_monthly_income_to_credit_sum',\n",
       "        'special_mean_normalized_living_region_credit_sum',\n",
       "        'special_mean_normalized_living_region_credit_month',\n",
       "        'special_mean_normalized_living_region_credit_count',\n",
       "        'special_mean_normalized_living_region_overdue_credit_count',\n",
       "        'special_mean_normalized_living_region_score_shk',\n",
       "        'special_mean_normalized_living_region_monthly_income',\n",
       "        'special_mean_normalized_living_region_ratio_credit_sum_to_month',\n",
       "        'special_mean_normalized_living_region_ratio_monthly_income_to_credit_sum',\n",
       "        'special_mean_tariff_id_credit_sum',\n",
       "        'special_mean_tariff_id_credit_month',\n",
       "        'special_mean_tariff_id_credit_count',\n",
       "        'special_mean_tariff_id_overdue_credit_count',\n",
       "        'special_mean_monthly_income_group_credit_sum',\n",
       "        'special_mean_monthly_income_group_credit_month',\n",
       "        'special_mean_monthly_income_group_credit_count',\n",
       "        'special_mean_monthly_income_group_overdue_credit_count',\n",
       "        'special_mean_monthly_income_group_score_shk',\n",
       "        'special_mean_monthly_income_group_ratio_credit_sum_to_month',\n",
       "        'special_mean_monthly_income_group_mean_income_by_normalized_living_region']], \n",
       "      dtype='<U84')"
      ]
     },
     "execution_count": 61,
     "metadata": {},
     "output_type": "execute_result"
    }
   ],
   "source": [
    "New_features"
   ]
  },
  {
   "cell_type": "code",
   "execution_count": 39,
   "metadata": {
    "collapsed": false
   },
   "outputs": [],
   "source": [
    "num_columns = all_data.select_dtypes(include=[np.number]).columns\n",
    "cat_columns = [col for col in all_data.columns if col not in num_columns]"
   ]
  },
  {
   "cell_type": "code",
   "execution_count": 45,
   "metadata": {
    "collapsed": false
   },
   "outputs": [
    {
     "name": "stdout",
     "output_type": "stream",
     "text": [
      "open_account_flg , null_count : 91940\n",
      "normalized_living_region , null_count : 434\n"
     ]
    }
   ],
   "source": [
    "for column in all_data.columns:\n",
    "    if all_data[column].isnull().any():\n",
    "        print('{0} , null_count : {1}'.format(column, all_data[column].isnull().sum()))"
   ]
  },
  {
   "cell_type": "code",
   "execution_count": 41,
   "metadata": {
    "collapsed": false
   },
   "outputs": [
    {
     "data": {
      "text/plain": [
       "['education',\n",
       " 'gender',\n",
       " 'job_position',\n",
       " 'living_region',\n",
       " 'marital_status',\n",
       " 'tariff_id',\n",
       " 'monthly_income_group',\n",
       " 'ratio_credit_sum_to_month_group',\n",
       " 'ratio_monthly_income_to_credit_sum_group',\n",
       " 'age_group',\n",
       " 'credit_sum_group',\n",
       " 'score_shk_group',\n",
       " 'normalized_living_region']"
      ]
     },
     "execution_count": 41,
     "metadata": {},
     "output_type": "execute_result"
    }
   ],
   "source": [
    "cat_columns"
   ]
  },
  {
   "cell_type": "code",
   "execution_count": 62,
   "metadata": {
    "collapsed": false
   },
   "outputs": [
    {
     "data": {
      "text/html": [
       "<div>\n",
       "<table border=\"1\" class=\"dataframe\">\n",
       "  <thead>\n",
       "    <tr style=\"text-align: right;\">\n",
       "      <th></th>\n",
       "      <th>age</th>\n",
       "      <th>client_id</th>\n",
       "      <th>credit_count</th>\n",
       "      <th>credit_month</th>\n",
       "      <th>credit_sum</th>\n",
       "      <th>education</th>\n",
       "      <th>gender</th>\n",
       "      <th>job_position</th>\n",
       "      <th>living_region</th>\n",
       "      <th>marital_status</th>\n",
       "      <th>...</th>\n",
       "      <th>special_mean_tariff_id_ratio_credit_sum_to_month</th>\n",
       "      <th>special_mean_tariff_id_ratio_monthly_income_to_credit_sum</th>\n",
       "      <th>special_mean_tariff_id_mean_income_by_normalized_living_region</th>\n",
       "      <th>special_mean_monthly_income_group_credit_sum</th>\n",
       "      <th>special_mean_monthly_income_group_credit_month</th>\n",
       "      <th>special_mean_monthly_income_group_credit_count</th>\n",
       "      <th>special_mean_monthly_income_group_overdue_credit_count</th>\n",
       "      <th>special_mean_monthly_income_group_score_shk</th>\n",
       "      <th>special_mean_monthly_income_group_ratio_credit_sum_to_month</th>\n",
       "      <th>special_mean_monthly_income_group_mean_income_by_normalized_living_region</th>\n",
       "    </tr>\n",
       "  </thead>\n",
       "  <tbody>\n",
       "    <tr>\n",
       "      <th>0</th>\n",
       "      <td>48</td>\n",
       "      <td>1</td>\n",
       "      <td>1.0</td>\n",
       "      <td>10</td>\n",
       "      <td>59998.00</td>\n",
       "      <td>1</td>\n",
       "      <td>1</td>\n",
       "      <td>14</td>\n",
       "      <td>98</td>\n",
       "      <td>2</td>\n",
       "      <td>...</td>\n",
       "      <td>2910.091795</td>\n",
       "      <td>1.699173</td>\n",
       "      <td>35277.376756</td>\n",
       "      <td>23439.364308</td>\n",
       "      <td>10.978312</td>\n",
       "      <td>1.811019</td>\n",
       "      <td>-0.021258</td>\n",
       "      <td>0.474058</td>\n",
       "      <td>2202.531478</td>\n",
       "      <td>33864.040640</td>\n",
       "    </tr>\n",
       "    <tr>\n",
       "      <th>1</th>\n",
       "      <td>28</td>\n",
       "      <td>2</td>\n",
       "      <td>2.0</td>\n",
       "      <td>6</td>\n",
       "      <td>10889.00</td>\n",
       "      <td>1</td>\n",
       "      <td>0</td>\n",
       "      <td>14</td>\n",
       "      <td>112</td>\n",
       "      <td>2</td>\n",
       "      <td>...</td>\n",
       "      <td>2181.455281</td>\n",
       "      <td>2.142674</td>\n",
       "      <td>34513.524731</td>\n",
       "      <td>28586.220536</td>\n",
       "      <td>11.002813</td>\n",
       "      <td>2.080590</td>\n",
       "      <td>-0.003270</td>\n",
       "      <td>0.470157</td>\n",
       "      <td>2695.220814</td>\n",
       "      <td>36192.070943</td>\n",
       "    </tr>\n",
       "    <tr>\n",
       "      <th>2</th>\n",
       "      <td>32</td>\n",
       "      <td>3</td>\n",
       "      <td>5.0</td>\n",
       "      <td>12</td>\n",
       "      <td>10728.00</td>\n",
       "      <td>3</td>\n",
       "      <td>1</td>\n",
       "      <td>13</td>\n",
       "      <td>164</td>\n",
       "      <td>2</td>\n",
       "      <td>...</td>\n",
       "      <td>2181.455281</td>\n",
       "      <td>2.142674</td>\n",
       "      <td>34513.524731</td>\n",
       "      <td>19489.173499</td>\n",
       "      <td>10.960730</td>\n",
       "      <td>1.702421</td>\n",
       "      <td>-0.028153</td>\n",
       "      <td>0.485868</td>\n",
       "      <td>1824.474016</td>\n",
       "      <td>33005.680472</td>\n",
       "    </tr>\n",
       "    <tr>\n",
       "      <th>3</th>\n",
       "      <td>27</td>\n",
       "      <td>4</td>\n",
       "      <td>2.0</td>\n",
       "      <td>12</td>\n",
       "      <td>12009.09</td>\n",
       "      <td>1</td>\n",
       "      <td>0</td>\n",
       "      <td>13</td>\n",
       "      <td>136</td>\n",
       "      <td>1</td>\n",
       "      <td>...</td>\n",
       "      <td>2181.455281</td>\n",
       "      <td>2.142674</td>\n",
       "      <td>34513.524731</td>\n",
       "      <td>17866.364910</td>\n",
       "      <td>10.897342</td>\n",
       "      <td>1.495592</td>\n",
       "      <td>-0.030292</td>\n",
       "      <td>0.480744</td>\n",
       "      <td>1681.420311</td>\n",
       "      <td>32568.307260</td>\n",
       "    </tr>\n",
       "    <tr>\n",
       "      <th>4</th>\n",
       "      <td>45</td>\n",
       "      <td>5</td>\n",
       "      <td>1.0</td>\n",
       "      <td>10</td>\n",
       "      <td>16908.89</td>\n",
       "      <td>3</td>\n",
       "      <td>1</td>\n",
       "      <td>13</td>\n",
       "      <td>302</td>\n",
       "      <td>2</td>\n",
       "      <td>...</td>\n",
       "      <td>2181.455281</td>\n",
       "      <td>2.142674</td>\n",
       "      <td>34513.524731</td>\n",
       "      <td>21332.203622</td>\n",
       "      <td>10.958171</td>\n",
       "      <td>1.721283</td>\n",
       "      <td>-0.027917</td>\n",
       "      <td>0.480842</td>\n",
       "      <td>2002.248235</td>\n",
       "      <td>33208.299147</td>\n",
       "    </tr>\n",
       "    <tr>\n",
       "      <th>5</th>\n",
       "      <td>37</td>\n",
       "      <td>6</td>\n",
       "      <td>0.0</td>\n",
       "      <td>10</td>\n",
       "      <td>26788.00</td>\n",
       "      <td>3</td>\n",
       "      <td>0</td>\n",
       "      <td>13</td>\n",
       "      <td>277</td>\n",
       "      <td>2</td>\n",
       "      <td>...</td>\n",
       "      <td>2181.455281</td>\n",
       "      <td>2.142674</td>\n",
       "      <td>34513.524731</td>\n",
       "      <td>23439.364308</td>\n",
       "      <td>10.978312</td>\n",
       "      <td>1.811019</td>\n",
       "      <td>-0.021258</td>\n",
       "      <td>0.474058</td>\n",
       "      <td>2202.531478</td>\n",
       "      <td>33864.040640</td>\n",
       "    </tr>\n",
       "    <tr>\n",
       "      <th>6</th>\n",
       "      <td>34</td>\n",
       "      <td>7</td>\n",
       "      <td>3.0</td>\n",
       "      <td>6</td>\n",
       "      <td>10317.00</td>\n",
       "      <td>3</td>\n",
       "      <td>1</td>\n",
       "      <td>13</td>\n",
       "      <td>153</td>\n",
       "      <td>2</td>\n",
       "      <td>...</td>\n",
       "      <td>2505.809225</td>\n",
       "      <td>2.144760</td>\n",
       "      <td>36790.380425</td>\n",
       "      <td>23439.364308</td>\n",
       "      <td>10.978312</td>\n",
       "      <td>1.811019</td>\n",
       "      <td>-0.021258</td>\n",
       "      <td>0.474058</td>\n",
       "      <td>2202.531478</td>\n",
       "      <td>33864.040640</td>\n",
       "    </tr>\n",
       "    <tr>\n",
       "      <th>7</th>\n",
       "      <td>26</td>\n",
       "      <td>8</td>\n",
       "      <td>3.0</td>\n",
       "      <td>10</td>\n",
       "      <td>47878.00</td>\n",
       "      <td>1</td>\n",
       "      <td>0</td>\n",
       "      <td>13</td>\n",
       "      <td>116</td>\n",
       "      <td>3</td>\n",
       "      <td>...</td>\n",
       "      <td>2181.455281</td>\n",
       "      <td>2.142674</td>\n",
       "      <td>34513.524731</td>\n",
       "      <td>32654.720030</td>\n",
       "      <td>11.028073</td>\n",
       "      <td>2.274347</td>\n",
       "      <td>0.011536</td>\n",
       "      <td>0.459179</td>\n",
       "      <td>3087.707074</td>\n",
       "      <td>37907.354628</td>\n",
       "    </tr>\n",
       "    <tr>\n",
       "      <th>8</th>\n",
       "      <td>23</td>\n",
       "      <td>9</td>\n",
       "      <td>3.0</td>\n",
       "      <td>12</td>\n",
       "      <td>37577.16</td>\n",
       "      <td>3</td>\n",
       "      <td>1</td>\n",
       "      <td>13</td>\n",
       "      <td>299</td>\n",
       "      <td>3</td>\n",
       "      <td>...</td>\n",
       "      <td>2910.091795</td>\n",
       "      <td>1.699173</td>\n",
       "      <td>35277.376756</td>\n",
       "      <td>30994.072956</td>\n",
       "      <td>11.005096</td>\n",
       "      <td>2.109465</td>\n",
       "      <td>0.007228</td>\n",
       "      <td>0.457631</td>\n",
       "      <td>2931.894889</td>\n",
       "      <td>36964.972918</td>\n",
       "    </tr>\n",
       "    <tr>\n",
       "      <th>9</th>\n",
       "      <td>32</td>\n",
       "      <td>10</td>\n",
       "      <td>7.0</td>\n",
       "      <td>10</td>\n",
       "      <td>26268.00</td>\n",
       "      <td>1</td>\n",
       "      <td>0</td>\n",
       "      <td>13</td>\n",
       "      <td>91</td>\n",
       "      <td>3</td>\n",
       "      <td>...</td>\n",
       "      <td>2181.455281</td>\n",
       "      <td>2.142674</td>\n",
       "      <td>34513.524731</td>\n",
       "      <td>26978.027648</td>\n",
       "      <td>10.999286</td>\n",
       "      <td>2.024817</td>\n",
       "      <td>-0.008233</td>\n",
       "      <td>0.469414</td>\n",
       "      <td>2540.708536</td>\n",
       "      <td>35194.107509</td>\n",
       "    </tr>\n",
       "  </tbody>\n",
       "</table>\n",
       "<p>10 rows × 123 columns</p>\n",
       "</div>"
      ],
      "text/plain": [
       "   age  client_id  credit_count  credit_month  credit_sum  education  gender  \\\n",
       "0   48          1           1.0            10    59998.00          1       1   \n",
       "1   28          2           2.0             6    10889.00          1       0   \n",
       "2   32          3           5.0            12    10728.00          3       1   \n",
       "3   27          4           2.0            12    12009.09          1       0   \n",
       "4   45          5           1.0            10    16908.89          3       1   \n",
       "5   37          6           0.0            10    26788.00          3       0   \n",
       "6   34          7           3.0             6    10317.00          3       1   \n",
       "7   26          8           3.0            10    47878.00          1       0   \n",
       "8   23          9           3.0            12    37577.16          3       1   \n",
       "9   32         10           7.0            10    26268.00          1       0   \n",
       "\n",
       "   job_position  living_region  marital_status  \\\n",
       "0            14             98               2   \n",
       "1            14            112               2   \n",
       "2            13            164               2   \n",
       "3            13            136               1   \n",
       "4            13            302               2   \n",
       "5            13            277               2   \n",
       "6            13            153               2   \n",
       "7            13            116               3   \n",
       "8            13            299               3   \n",
       "9            13             91               3   \n",
       "\n",
       "                                     ...                                      \\\n",
       "0                                    ...                                       \n",
       "1                                    ...                                       \n",
       "2                                    ...                                       \n",
       "3                                    ...                                       \n",
       "4                                    ...                                       \n",
       "5                                    ...                                       \n",
       "6                                    ...                                       \n",
       "7                                    ...                                       \n",
       "8                                    ...                                       \n",
       "9                                    ...                                       \n",
       "\n",
       "   special_mean_tariff_id_ratio_credit_sum_to_month  \\\n",
       "0                                       2910.091795   \n",
       "1                                       2181.455281   \n",
       "2                                       2181.455281   \n",
       "3                                       2181.455281   \n",
       "4                                       2181.455281   \n",
       "5                                       2181.455281   \n",
       "6                                       2505.809225   \n",
       "7                                       2181.455281   \n",
       "8                                       2910.091795   \n",
       "9                                       2181.455281   \n",
       "\n",
       "   special_mean_tariff_id_ratio_monthly_income_to_credit_sum  \\\n",
       "0                                           1.699173           \n",
       "1                                           2.142674           \n",
       "2                                           2.142674           \n",
       "3                                           2.142674           \n",
       "4                                           2.142674           \n",
       "5                                           2.142674           \n",
       "6                                           2.144760           \n",
       "7                                           2.142674           \n",
       "8                                           1.699173           \n",
       "9                                           2.142674           \n",
       "\n",
       "   special_mean_tariff_id_mean_income_by_normalized_living_region  \\\n",
       "0                                       35277.376756                \n",
       "1                                       34513.524731                \n",
       "2                                       34513.524731                \n",
       "3                                       34513.524731                \n",
       "4                                       34513.524731                \n",
       "5                                       34513.524731                \n",
       "6                                       36790.380425                \n",
       "7                                       34513.524731                \n",
       "8                                       35277.376756                \n",
       "9                                       34513.524731                \n",
       "\n",
       "   special_mean_monthly_income_group_credit_sum  \\\n",
       "0                                  23439.364308   \n",
       "1                                  28586.220536   \n",
       "2                                  19489.173499   \n",
       "3                                  17866.364910   \n",
       "4                                  21332.203622   \n",
       "5                                  23439.364308   \n",
       "6                                  23439.364308   \n",
       "7                                  32654.720030   \n",
       "8                                  30994.072956   \n",
       "9                                  26978.027648   \n",
       "\n",
       "   special_mean_monthly_income_group_credit_month  \\\n",
       "0                                       10.978312   \n",
       "1                                       11.002813   \n",
       "2                                       10.960730   \n",
       "3                                       10.897342   \n",
       "4                                       10.958171   \n",
       "5                                       10.978312   \n",
       "6                                       10.978312   \n",
       "7                                       11.028073   \n",
       "8                                       11.005096   \n",
       "9                                       10.999286   \n",
       "\n",
       "   special_mean_monthly_income_group_credit_count  \\\n",
       "0                                        1.811019   \n",
       "1                                        2.080590   \n",
       "2                                        1.702421   \n",
       "3                                        1.495592   \n",
       "4                                        1.721283   \n",
       "5                                        1.811019   \n",
       "6                                        1.811019   \n",
       "7                                        2.274347   \n",
       "8                                        2.109465   \n",
       "9                                        2.024817   \n",
       "\n",
       "   special_mean_monthly_income_group_overdue_credit_count  \\\n",
       "0                                          -0.021258        \n",
       "1                                          -0.003270        \n",
       "2                                          -0.028153        \n",
       "3                                          -0.030292        \n",
       "4                                          -0.027917        \n",
       "5                                          -0.021258        \n",
       "6                                          -0.021258        \n",
       "7                                           0.011536        \n",
       "8                                           0.007228        \n",
       "9                                          -0.008233        \n",
       "\n",
       "   special_mean_monthly_income_group_score_shk  \\\n",
       "0                                     0.474058   \n",
       "1                                     0.470157   \n",
       "2                                     0.485868   \n",
       "3                                     0.480744   \n",
       "4                                     0.480842   \n",
       "5                                     0.474058   \n",
       "6                                     0.474058   \n",
       "7                                     0.459179   \n",
       "8                                     0.457631   \n",
       "9                                     0.469414   \n",
       "\n",
       "   special_mean_monthly_income_group_ratio_credit_sum_to_month  \\\n",
       "0                                        2202.531478             \n",
       "1                                        2695.220814             \n",
       "2                                        1824.474016             \n",
       "3                                        1681.420311             \n",
       "4                                        2002.248235             \n",
       "5                                        2202.531478             \n",
       "6                                        2202.531478             \n",
       "7                                        3087.707074             \n",
       "8                                        2931.894889             \n",
       "9                                        2540.708536             \n",
       "\n",
       "   special_mean_monthly_income_group_mean_income_by_normalized_living_region  \n",
       "0                                       33864.040640                          \n",
       "1                                       36192.070943                          \n",
       "2                                       33005.680472                          \n",
       "3                                       32568.307260                          \n",
       "4                                       33208.299147                          \n",
       "5                                       33864.040640                          \n",
       "6                                       33864.040640                          \n",
       "7                                       37907.354628                          \n",
       "8                                       36964.972918                          \n",
       "9                                       35194.107509                          \n",
       "\n",
       "[10 rows x 123 columns]"
      ]
     },
     "execution_count": 62,
     "metadata": {},
     "output_type": "execute_result"
    }
   ],
   "source": [
    "all_data.to_csv('all_data_new_features_18feb_added_non_encoded.csv', sep='\\t', index=False, header=True)\n",
    "\n",
    "# -*- coding: utf-8 -*-\n",
    "all_data = pd.read_csv('all_data_new_features_18feb_added_non_encoded.csv', delimiter='\\t')\n",
    "all_data.head(10)"
   ]
  },
  {
   "cell_type": "code",
   "execution_count": 51,
   "metadata": {
    "collapsed": false
   },
   "outputs": [
    {
     "data": {
      "text/html": [
       "<div>\n",
       "<table border=\"1\" class=\"dataframe\">\n",
       "  <thead>\n",
       "    <tr style=\"text-align: right;\">\n",
       "      <th></th>\n",
       "      <th>age</th>\n",
       "      <th>client_id</th>\n",
       "      <th>credit_count</th>\n",
       "      <th>credit_month</th>\n",
       "      <th>credit_sum</th>\n",
       "      <th>education</th>\n",
       "      <th>gender</th>\n",
       "      <th>job_position</th>\n",
       "      <th>living_region</th>\n",
       "      <th>marital_status</th>\n",
       "      <th>...</th>\n",
       "      <th>special_mean_tariff_id_overdue_credit_count</th>\n",
       "      <th>special_mean_tariff_id_score_shk</th>\n",
       "      <th>special_mean_tariff_id_monthly_income</th>\n",
       "      <th>special_mean_tariff_id_ratio_credit_sum_to_month</th>\n",
       "      <th>special_mean_monthly_income_group_credit_sum</th>\n",
       "      <th>special_mean_monthly_income_group_credit_month</th>\n",
       "      <th>special_mean_monthly_income_group_credit_count</th>\n",
       "      <th>special_mean_monthly_income_group_overdue_credit_count</th>\n",
       "      <th>special_mean_monthly_income_group_score_shk</th>\n",
       "      <th>special_mean_monthly_income_group_ratio_credit_sum_to_month</th>\n",
       "    </tr>\n",
       "  </thead>\n",
       "  <tbody>\n",
       "    <tr>\n",
       "      <th>0</th>\n",
       "      <td>48</td>\n",
       "      <td>1</td>\n",
       "      <td>1.0</td>\n",
       "      <td>10</td>\n",
       "      <td>59998.00</td>\n",
       "      <td>1</td>\n",
       "      <td>1</td>\n",
       "      <td>14</td>\n",
       "      <td>98</td>\n",
       "      <td>2</td>\n",
       "      <td>...</td>\n",
       "      <td>-0.013682</td>\n",
       "      <td>0.593154</td>\n",
       "      <td>39782.023398</td>\n",
       "      <td>2910.091795</td>\n",
       "      <td>23439.364308</td>\n",
       "      <td>10.978312</td>\n",
       "      <td>1.811019</td>\n",
       "      <td>-0.021258</td>\n",
       "      <td>0.474058</td>\n",
       "      <td>2202.531478</td>\n",
       "    </tr>\n",
       "    <tr>\n",
       "      <th>1</th>\n",
       "      <td>28</td>\n",
       "      <td>2</td>\n",
       "      <td>2.0</td>\n",
       "      <td>6</td>\n",
       "      <td>10889.00</td>\n",
       "      <td>1</td>\n",
       "      <td>0</td>\n",
       "      <td>14</td>\n",
       "      <td>112</td>\n",
       "      <td>2</td>\n",
       "      <td>...</td>\n",
       "      <td>-0.016971</td>\n",
       "      <td>0.424516</td>\n",
       "      <td>39408.066598</td>\n",
       "      <td>2181.455281</td>\n",
       "      <td>28586.220536</td>\n",
       "      <td>11.002813</td>\n",
       "      <td>2.080590</td>\n",
       "      <td>-0.003270</td>\n",
       "      <td>0.470157</td>\n",
       "      <td>2695.220814</td>\n",
       "    </tr>\n",
       "    <tr>\n",
       "      <th>2</th>\n",
       "      <td>32</td>\n",
       "      <td>3</td>\n",
       "      <td>5.0</td>\n",
       "      <td>12</td>\n",
       "      <td>10728.00</td>\n",
       "      <td>3</td>\n",
       "      <td>1</td>\n",
       "      <td>13</td>\n",
       "      <td>164</td>\n",
       "      <td>2</td>\n",
       "      <td>...</td>\n",
       "      <td>-0.016971</td>\n",
       "      <td>0.424516</td>\n",
       "      <td>39408.066598</td>\n",
       "      <td>2181.455281</td>\n",
       "      <td>19489.173499</td>\n",
       "      <td>10.960730</td>\n",
       "      <td>1.702421</td>\n",
       "      <td>-0.028153</td>\n",
       "      <td>0.485868</td>\n",
       "      <td>1824.474016</td>\n",
       "    </tr>\n",
       "    <tr>\n",
       "      <th>3</th>\n",
       "      <td>27</td>\n",
       "      <td>4</td>\n",
       "      <td>2.0</td>\n",
       "      <td>12</td>\n",
       "      <td>12009.09</td>\n",
       "      <td>1</td>\n",
       "      <td>0</td>\n",
       "      <td>13</td>\n",
       "      <td>136</td>\n",
       "      <td>1</td>\n",
       "      <td>...</td>\n",
       "      <td>-0.016971</td>\n",
       "      <td>0.424516</td>\n",
       "      <td>39408.066598</td>\n",
       "      <td>2181.455281</td>\n",
       "      <td>17866.364910</td>\n",
       "      <td>10.897342</td>\n",
       "      <td>1.495592</td>\n",
       "      <td>-0.030292</td>\n",
       "      <td>0.480744</td>\n",
       "      <td>1681.420311</td>\n",
       "    </tr>\n",
       "    <tr>\n",
       "      <th>4</th>\n",
       "      <td>45</td>\n",
       "      <td>5</td>\n",
       "      <td>1.0</td>\n",
       "      <td>10</td>\n",
       "      <td>16908.89</td>\n",
       "      <td>3</td>\n",
       "      <td>1</td>\n",
       "      <td>13</td>\n",
       "      <td>302</td>\n",
       "      <td>2</td>\n",
       "      <td>...</td>\n",
       "      <td>-0.016971</td>\n",
       "      <td>0.424516</td>\n",
       "      <td>39408.066598</td>\n",
       "      <td>2181.455281</td>\n",
       "      <td>21332.203622</td>\n",
       "      <td>10.958171</td>\n",
       "      <td>1.721283</td>\n",
       "      <td>-0.027917</td>\n",
       "      <td>0.480842</td>\n",
       "      <td>2002.248235</td>\n",
       "    </tr>\n",
       "    <tr>\n",
       "      <th>5</th>\n",
       "      <td>37</td>\n",
       "      <td>6</td>\n",
       "      <td>0.0</td>\n",
       "      <td>10</td>\n",
       "      <td>26788.00</td>\n",
       "      <td>3</td>\n",
       "      <td>0</td>\n",
       "      <td>13</td>\n",
       "      <td>277</td>\n",
       "      <td>2</td>\n",
       "      <td>...</td>\n",
       "      <td>-0.016971</td>\n",
       "      <td>0.424516</td>\n",
       "      <td>39408.066598</td>\n",
       "      <td>2181.455281</td>\n",
       "      <td>23439.364308</td>\n",
       "      <td>10.978312</td>\n",
       "      <td>1.811019</td>\n",
       "      <td>-0.021258</td>\n",
       "      <td>0.474058</td>\n",
       "      <td>2202.531478</td>\n",
       "    </tr>\n",
       "    <tr>\n",
       "      <th>6</th>\n",
       "      <td>34</td>\n",
       "      <td>7</td>\n",
       "      <td>3.0</td>\n",
       "      <td>6</td>\n",
       "      <td>10317.00</td>\n",
       "      <td>3</td>\n",
       "      <td>1</td>\n",
       "      <td>13</td>\n",
       "      <td>153</td>\n",
       "      <td>2</td>\n",
       "      <td>...</td>\n",
       "      <td>0.013695</td>\n",
       "      <td>0.431778</td>\n",
       "      <td>40264.605026</td>\n",
       "      <td>2505.809225</td>\n",
       "      <td>23439.364308</td>\n",
       "      <td>10.978312</td>\n",
       "      <td>1.811019</td>\n",
       "      <td>-0.021258</td>\n",
       "      <td>0.474058</td>\n",
       "      <td>2202.531478</td>\n",
       "    </tr>\n",
       "    <tr>\n",
       "      <th>7</th>\n",
       "      <td>26</td>\n",
       "      <td>8</td>\n",
       "      <td>3.0</td>\n",
       "      <td>10</td>\n",
       "      <td>47878.00</td>\n",
       "      <td>1</td>\n",
       "      <td>0</td>\n",
       "      <td>13</td>\n",
       "      <td>116</td>\n",
       "      <td>3</td>\n",
       "      <td>...</td>\n",
       "      <td>-0.016971</td>\n",
       "      <td>0.424516</td>\n",
       "      <td>39408.066598</td>\n",
       "      <td>2181.455281</td>\n",
       "      <td>32654.720030</td>\n",
       "      <td>11.028073</td>\n",
       "      <td>2.274347</td>\n",
       "      <td>0.011536</td>\n",
       "      <td>0.459179</td>\n",
       "      <td>3087.707074</td>\n",
       "    </tr>\n",
       "    <tr>\n",
       "      <th>8</th>\n",
       "      <td>23</td>\n",
       "      <td>9</td>\n",
       "      <td>3.0</td>\n",
       "      <td>12</td>\n",
       "      <td>37577.16</td>\n",
       "      <td>3</td>\n",
       "      <td>1</td>\n",
       "      <td>13</td>\n",
       "      <td>299</td>\n",
       "      <td>3</td>\n",
       "      <td>...</td>\n",
       "      <td>-0.013682</td>\n",
       "      <td>0.593154</td>\n",
       "      <td>39782.023398</td>\n",
       "      <td>2910.091795</td>\n",
       "      <td>30994.072956</td>\n",
       "      <td>11.005096</td>\n",
       "      <td>2.109465</td>\n",
       "      <td>0.007228</td>\n",
       "      <td>0.457631</td>\n",
       "      <td>2931.894889</td>\n",
       "    </tr>\n",
       "    <tr>\n",
       "      <th>9</th>\n",
       "      <td>32</td>\n",
       "      <td>10</td>\n",
       "      <td>7.0</td>\n",
       "      <td>10</td>\n",
       "      <td>26268.00</td>\n",
       "      <td>1</td>\n",
       "      <td>0</td>\n",
       "      <td>13</td>\n",
       "      <td>91</td>\n",
       "      <td>3</td>\n",
       "      <td>...</td>\n",
       "      <td>-0.016971</td>\n",
       "      <td>0.424516</td>\n",
       "      <td>39408.066598</td>\n",
       "      <td>2181.455281</td>\n",
       "      <td>26978.027648</td>\n",
       "      <td>10.999286</td>\n",
       "      <td>2.024817</td>\n",
       "      <td>-0.008233</td>\n",
       "      <td>0.469414</td>\n",
       "      <td>2540.708536</td>\n",
       "    </tr>\n",
       "  </tbody>\n",
       "</table>\n",
       "<p>10 rows × 102 columns</p>\n",
       "</div>"
      ],
      "text/plain": [
       "   age  client_id  credit_count  credit_month  credit_sum  education  gender  \\\n",
       "0   48          1           1.0            10    59998.00          1       1   \n",
       "1   28          2           2.0             6    10889.00          1       0   \n",
       "2   32          3           5.0            12    10728.00          3       1   \n",
       "3   27          4           2.0            12    12009.09          1       0   \n",
       "4   45          5           1.0            10    16908.89          3       1   \n",
       "5   37          6           0.0            10    26788.00          3       0   \n",
       "6   34          7           3.0             6    10317.00          3       1   \n",
       "7   26          8           3.0            10    47878.00          1       0   \n",
       "8   23          9           3.0            12    37577.16          3       1   \n",
       "9   32         10           7.0            10    26268.00          1       0   \n",
       "\n",
       "   job_position  living_region  marital_status  \\\n",
       "0            14             98               2   \n",
       "1            14            112               2   \n",
       "2            13            164               2   \n",
       "3            13            136               1   \n",
       "4            13            302               2   \n",
       "5            13            277               2   \n",
       "6            13            153               2   \n",
       "7            13            116               3   \n",
       "8            13            299               3   \n",
       "9            13             91               3   \n",
       "\n",
       "                              ...                               \\\n",
       "0                             ...                                \n",
       "1                             ...                                \n",
       "2                             ...                                \n",
       "3                             ...                                \n",
       "4                             ...                                \n",
       "5                             ...                                \n",
       "6                             ...                                \n",
       "7                             ...                                \n",
       "8                             ...                                \n",
       "9                             ...                                \n",
       "\n",
       "   special_mean_tariff_id_overdue_credit_count  \\\n",
       "0                                    -0.013682   \n",
       "1                                    -0.016971   \n",
       "2                                    -0.016971   \n",
       "3                                    -0.016971   \n",
       "4                                    -0.016971   \n",
       "5                                    -0.016971   \n",
       "6                                     0.013695   \n",
       "7                                    -0.016971   \n",
       "8                                    -0.013682   \n",
       "9                                    -0.016971   \n",
       "\n",
       "   special_mean_tariff_id_score_shk  special_mean_tariff_id_monthly_income  \\\n",
       "0                          0.593154                           39782.023398   \n",
       "1                          0.424516                           39408.066598   \n",
       "2                          0.424516                           39408.066598   \n",
       "3                          0.424516                           39408.066598   \n",
       "4                          0.424516                           39408.066598   \n",
       "5                          0.424516                           39408.066598   \n",
       "6                          0.431778                           40264.605026   \n",
       "7                          0.424516                           39408.066598   \n",
       "8                          0.593154                           39782.023398   \n",
       "9                          0.424516                           39408.066598   \n",
       "\n",
       "   special_mean_tariff_id_ratio_credit_sum_to_month  \\\n",
       "0                                       2910.091795   \n",
       "1                                       2181.455281   \n",
       "2                                       2181.455281   \n",
       "3                                       2181.455281   \n",
       "4                                       2181.455281   \n",
       "5                                       2181.455281   \n",
       "6                                       2505.809225   \n",
       "7                                       2181.455281   \n",
       "8                                       2910.091795   \n",
       "9                                       2181.455281   \n",
       "\n",
       "   special_mean_monthly_income_group_credit_sum  \\\n",
       "0                                  23439.364308   \n",
       "1                                  28586.220536   \n",
       "2                                  19489.173499   \n",
       "3                                  17866.364910   \n",
       "4                                  21332.203622   \n",
       "5                                  23439.364308   \n",
       "6                                  23439.364308   \n",
       "7                                  32654.720030   \n",
       "8                                  30994.072956   \n",
       "9                                  26978.027648   \n",
       "\n",
       "   special_mean_monthly_income_group_credit_month  \\\n",
       "0                                       10.978312   \n",
       "1                                       11.002813   \n",
       "2                                       10.960730   \n",
       "3                                       10.897342   \n",
       "4                                       10.958171   \n",
       "5                                       10.978312   \n",
       "6                                       10.978312   \n",
       "7                                       11.028073   \n",
       "8                                       11.005096   \n",
       "9                                       10.999286   \n",
       "\n",
       "   special_mean_monthly_income_group_credit_count  \\\n",
       "0                                        1.811019   \n",
       "1                                        2.080590   \n",
       "2                                        1.702421   \n",
       "3                                        1.495592   \n",
       "4                                        1.721283   \n",
       "5                                        1.811019   \n",
       "6                                        1.811019   \n",
       "7                                        2.274347   \n",
       "8                                        2.109465   \n",
       "9                                        2.024817   \n",
       "\n",
       "   special_mean_monthly_income_group_overdue_credit_count  \\\n",
       "0                                          -0.021258        \n",
       "1                                          -0.003270        \n",
       "2                                          -0.028153        \n",
       "3                                          -0.030292        \n",
       "4                                          -0.027917        \n",
       "5                                          -0.021258        \n",
       "6                                          -0.021258        \n",
       "7                                           0.011536        \n",
       "8                                           0.007228        \n",
       "9                                          -0.008233        \n",
       "\n",
       "   special_mean_monthly_income_group_score_shk  \\\n",
       "0                                     0.474058   \n",
       "1                                     0.470157   \n",
       "2                                     0.485868   \n",
       "3                                     0.480744   \n",
       "4                                     0.480842   \n",
       "5                                     0.474058   \n",
       "6                                     0.474058   \n",
       "7                                     0.459179   \n",
       "8                                     0.457631   \n",
       "9                                     0.469414   \n",
       "\n",
       "   special_mean_monthly_income_group_ratio_credit_sum_to_month  \n",
       "0                                        2202.531478            \n",
       "1                                        2695.220814            \n",
       "2                                        1824.474016            \n",
       "3                                        1681.420311            \n",
       "4                                        2002.248235            \n",
       "5                                        2202.531478            \n",
       "6                                        2202.531478            \n",
       "7                                        3087.707074            \n",
       "8                                        2931.894889            \n",
       "9                                        2540.708536            \n",
       "\n",
       "[10 rows x 102 columns]"
      ]
     },
     "execution_count": 51,
     "metadata": {},
     "output_type": "execute_result"
    }
   ],
   "source": [
    "all_data.to_csv('all_data_new_features_17feb_added.csv', sep='\\t', index=False, header=True)\n",
    "\n",
    "# -*- coding: utf-8 -*-\n",
    "all_data = pd.read_csv('all_data_new_features_17feb_added.csv', delimiter='\\t')\n",
    "all_data.head(10)"
   ]
  },
  {
   "cell_type": "code",
   "execution_count": null,
   "metadata": {
    "collapsed": true
   },
   "outputs": [],
   "source": []
  },
  {
   "cell_type": "code",
   "execution_count": null,
   "metadata": {
    "collapsed": true
   },
   "outputs": [],
   "source": []
  }
 ],
 "metadata": {
  "anaconda-cloud": {},
  "kernelspec": {
   "display_name": "Python 3",
   "language": "python",
   "name": "python3"
  },
  "language_info": {
   "codemirror_mode": {
    "name": "ipython",
    "version": 3
   },
   "file_extension": ".py",
   "mimetype": "text/x-python",
   "name": "python",
   "nbconvert_exporter": "python",
   "pygments_lexer": "ipython3",
   "version": "3.5.2"
  }
 },
 "nbformat": 4,
 "nbformat_minor": 1
}
